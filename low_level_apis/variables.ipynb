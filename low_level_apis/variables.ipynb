{
 "cells": [
  {
   "cell_type": "markdown",
   "metadata": {},
   "source": [
    "Variables are manipulated via the tf.Variable class. A tf.Variable represents a tensor whose value can be changed by running ops on it. Unlike tf.Tensor objects, a tf.Variable exists outside the context of a single session.run call.\n",
    "\n",
    "The best way to create a variable is to call the tf.get_variable function. This function requires you to specify the Variable's name."
   ]
  },
  {
   "cell_type": "code",
   "execution_count": 1,
   "metadata": {},
   "outputs": [],
   "source": [
    "from __future__ import absolute_import\n",
    "from __future__ import division\n",
    "from __future__ import print_function\n",
    "\n",
    "import numpy as np\n",
    "import tensorflow as tf\n",
    "sess = tf.Session()"
   ]
  },
  {
   "cell_type": "code",
   "execution_count": 2,
   "metadata": {},
   "outputs": [],
   "source": [
    "# This creates a variable named \"my_variable\" which is a three-dimensional tensor with shape [1, 2, 3]. \n",
    "# This variable will, by default, have the dtype tf.float32 and its initial value will be randomized via \n",
    "# tf.glorot_uniform_initializer.\n",
    "my_variable = tf.get_variable(\"my_variable\", [1, 2, 3])\n",
    "\n",
    "# You may optionally specify the dtype and initializer to tf.get_variable. For example:\n",
    "my_int_variable = tf.get_variable(\"my_int_variable\", [1, 2, 3], dtype=tf.int32,\n",
    "  initializer=tf.zeros_initializer)\n",
    "\n",
    "# TensorFlow provides many convenient initializers. \n",
    "# Alternatively, you may initialize a tf.Variable to have the value of a tf.Tensor. For example:\n",
    "other_variable = tf.get_variable(\"other_variable\", dtype=tf.int32,\n",
    "  initializer=tf.constant([23, 42]))"
   ]
  },
  {
   "cell_type": "markdown",
   "metadata": {},
   "source": [
    "Collections: Are named lists of tensors or other objects, such as tf.Variable instances.\n",
    "\n",
    "By default every tf.Variable gets placed in the following two collections:\n",
    "\n",
    "    1) tf.GraphKeys.GLOBAL_VARIABLES --- variables that can be shared across multiple devices,\n",
    "    2) tf.GraphKeys.TRAINABLE_VARIABLES --- variables for which TensorFlow will calculate gradients."
   ]
  },
  {
   "cell_type": "code",
   "execution_count": 3,
   "metadata": {},
   "outputs": [
    {
     "data": {
      "text/plain": [
       "[<tf.Variable 'my_local:0' shape=() dtype=float32_ref>]"
      ]
     },
     "execution_count": 3,
     "metadata": {},
     "output_type": "execute_result"
    }
   ],
   "source": [
    "# If you don't want a variable to be trainable, add it to the tf.GraphKeys.LOCAL_VARIABLES collection instead. \n",
    "# For example, the following snippet demonstrates how to add a variable named my_local to this collection:\n",
    "my_local = tf.get_variable(\"my_local\", shape=(),\n",
    "collections=[tf.GraphKeys.LOCAL_VARIABLES])\n",
    "\n",
    "# or\n",
    "\n",
    "my_non_trainable = tf.get_variable(\"my_non_trainable\",\n",
    "                                   shape=(),\n",
    "                                   trainable=False)\n",
    "\n",
    "tf.add_to_collection(\"my_collection_name\", my_local) # add  my_local to own collection (implicitly initalized)\n",
    "tf.get_collection(\"my_collection_name\") # retrieve from collection (returns variable of tensors)"
   ]
  },
  {
   "cell_type": "markdown",
   "metadata": {},
   "source": [
    "Before you can use a variable, it must be initialized. If you are programming in the low-level TensorFlow API (that is, you are explicitly creating your own graphs and sessions), you must explicitly initialize the variables."
   ]
  },
  {
   "cell_type": "code",
   "execution_count": 4,
   "metadata": {},
   "outputs": [
    {
     "name": "stdout",
     "output_type": "stream",
     "text": [
      "[b'my_local']\n",
      "[]\n"
     ]
    }
   ],
   "source": [
    "sess.run(tf.global_variables_initializer()) # Now all variables 'should' be initialized.\n",
    "\n",
    "#You can also ask which variables have still not been initialized. \n",
    "# For example, the following code prints the names of all variables which have not yet been initialized:\n",
    "print(sess.run(tf.report_uninitialized_variables()))\n",
    "\n",
    "sess.run(my_local.initializer)\n",
    "print(sess.run(tf.report_uninitialized_variables()))    #Since local was not being initalized automaticall"
   ]
  },
  {
   "cell_type": "code",
   "execution_count": 5,
   "metadata": {},
   "outputs": [
    {
     "name": "stdout",
     "output_type": "stream",
     "text": [
      "[<tf.Variable 'my_local:0' shape=() dtype=float32_ref>]\n",
      "1.1563798\n"
     ]
    }
   ],
   "source": [
    "print(tf.get_collection(\"my_collection_name\"))\n",
    "print(tf.get_collection(\"my_collection_name\")[0].eval(sess)) # printing out my_local variable from collection"
   ]
  },
  {
   "cell_type": "code",
   "execution_count": 6,
   "metadata": {},
   "outputs": [
    {
     "name": "stdout",
     "output_type": "stream",
     "text": [
      "[b'v' b'w']\n"
     ]
    }
   ],
   "source": [
    "v = tf.get_variable(\"v\", shape=(), initializer=tf.zeros_initializer())\n",
    "#w = tf.get_variable(\"w\", initializer=v + 1) #throws an error because v is not initalized here\n",
    "w = tf.get_variable(\"w\", initializer=v.initialized_value() + 1)\n",
    "print(sess.run(tf.report_uninitialized_variables()))"
   ]
  },
  {
   "cell_type": "code",
   "execution_count": 7,
   "metadata": {},
   "outputs": [
    {
     "name": "stdout",
     "output_type": "stream",
     "text": [
      "[]\n"
     ]
    }
   ],
   "source": [
    "sess.run(tf.global_variables_initializer())\n",
    "print(sess.run(tf.report_uninitialized_variables())) #now v & w are initalized"
   ]
  },
  {
   "cell_type": "code",
   "execution_count": 8,
   "metadata": {},
   "outputs": [],
   "source": [
    "z = tf.get_variable(\"z\", initializer=v+w)\n",
    "#now z works since v & w are initalized, but this is bad practice."
   ]
  },
  {
   "cell_type": "markdown",
   "metadata": {},
   "source": [
    "To use the value of a tf.Variable in a TensorFlow graph, simply treat it like a normal tf.Tensor\n",
    "\n",
    "To assign a value to a variable, use the methods assign, assign_add, and friends in the tf.Variable class.\n",
    "\n",
    "Because variables are mutable it's sometimes useful to know what version of a variable's value is being used at any point in time. To force a re-read of the value of a variable after something has happened, you can use tf.Variable.read_value."
   ]
  },
  {
   "cell_type": "code",
   "execution_count": 9,
   "metadata": {},
   "outputs": [],
   "source": [
    "f = tf.get_variable(\"f\", shape=(), initializer=tf.zeros_initializer())\n",
    "k = f + 1  # w is a tf.Tensor which is computed based on the value of v.\n",
    "           # Any time a variable is used in an expression it gets automatically\n",
    "           # converted to a tf.Tensor representing its value.\n",
    "        \n",
    "g = tf.get_variable(\"g\", shape=(), initializer=tf.zeros_initializer())\n",
    "assignment = g.assign_add(1)\n",
    "sess.run(tf.global_variables_initializer())\n",
    "sess.run(assignment)  # or assignment.op.run(), or assignment.eval()\n",
    "\n",
    "h = tf.get_variable(\"h\", shape=(), initializer=tf.zeros_initializer())\n",
    "assignment = h.assign_add(1)\n",
    "with tf.control_dependencies([assignment]):\n",
    "  w = h.read_value()  # w is guaranteed to reflect v's value after the\n",
    "                      # assign_add operation."
   ]
  },
  {
   "cell_type": "code",
   "execution_count": 11,
   "metadata": {},
   "outputs": [
    {
     "name": "stdout",
     "output_type": "stream",
     "text": [
      "1.0\n"
     ]
    }
   ],
   "source": [
    "print(g.eval(sess))\n",
    "# print(g.eval(sess)) #would throw an error since g was not initalized"
   ]
  },
  {
   "cell_type": "code",
   "execution_count": null,
   "metadata": {},
   "outputs": [],
   "source": []
  }
 ],
 "metadata": {
  "kernelspec": {
   "display_name": "Python 3",
   "language": "python",
   "name": "python3"
  },
  "language_info": {
   "codemirror_mode": {
    "name": "ipython",
    "version": 3
   },
   "file_extension": ".py",
   "mimetype": "text/x-python",
   "name": "python",
   "nbconvert_exporter": "python",
   "pygments_lexer": "ipython3",
   "version": "3.6.5"
  }
 },
 "nbformat": 4,
 "nbformat_minor": 2
}
