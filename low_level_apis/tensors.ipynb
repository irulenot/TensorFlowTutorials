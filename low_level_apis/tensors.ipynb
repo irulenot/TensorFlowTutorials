{
 "cells": [
  {
   "cell_type": "markdown",
   "metadata": {},
   "source": [
    "TensorFlow, as the name indicates, is a framework to define and run computations involving tensors. A tensor is a generalization of vectors and matrices to potentially higher dimensions.\n",
    "\n",
    "TensorFlow programs work by first building a graph of tf.Tensor objects, detailing how each tensor is computed based on the other available tensors and then by running parts of this graph to achieve the desired results.\n",
    "\n",
    "A tf.Tensor has the following properties:\n",
    " 1) a data type (float32, int32, or string, for example)\n",
    " 2) a shape\n",
    " \n",
    "The rank of a tf.Tensor object is its number of dimensions. Synonyms for rank include order or degree or n-dimension.\n",
    " (0 is scalar, 1 is vector, 2 is 2D, 3 is 3D... etc)\n",
    " \n",
    "tf.rank() to get rank of tensor"
   ]
  },
  {
   "cell_type": "code",
   "execution_count": 2,
   "metadata": {},
   "outputs": [],
   "source": [
    "from __future__ import absolute_import\n",
    "from __future__ import division\n",
    "from __future__ import print_function\n",
    "\n",
    "import numpy as np\n",
    "import tensorflow as tf"
   ]
  },
  {
   "cell_type": "code",
   "execution_count": 8,
   "metadata": {},
   "outputs": [
    {
     "name": "stdout",
     "output_type": "stream",
     "text": [
      "1\n",
      "2\n"
     ]
    }
   ],
   "source": [
    "sess = tf.Session()\n",
    "\n",
    "#Rank 1: Vector\n",
    "cool_numbers  = tf.Variable([3.14159, 2.71828], tf.float32)\n",
    "r = tf.rank(cool_numbers)\n",
    "print(sess.run(r))\n",
    "\n",
    "#Rank 2: 2D\n",
    "mymat = tf.Variable([[7],[11]], tf.int16)\n",
    "r = tf.rank(mymat)\n",
    "print(sess.run(r))"
   ]
  },
  {
   "cell_type": "code",
   "execution_count": null,
   "metadata": {},
   "outputs": [],
   "source": []
  }
 ],
 "metadata": {
  "kernelspec": {
   "display_name": "Python 3",
   "language": "python",
   "name": "python3"
  },
  "language_info": {
   "codemirror_mode": {
    "name": "ipython",
    "version": 3
   },
   "file_extension": ".py",
   "mimetype": "text/x-python",
   "name": "python",
   "nbconvert_exporter": "python",
   "pygments_lexer": "ipython3",
   "version": "3.6.5"
  }
 },
 "nbformat": 4,
 "nbformat_minor": 2
}
