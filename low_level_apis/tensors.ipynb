{
 "cells": [
  {
   "cell_type": "markdown",
   "metadata": {},
   "source": [
    "TensorFlow, as the name indicates, is a framework to define and run computations involving tensors. A tensor is a generalization of vectors and matrices to potentially higher dimensions.\n",
    "\n",
    "TensorFlow programs work by first building a graph of tf.Tensor objects, detailing how each tensor is computed based on the other available tensors and then by running parts of this graph to achieve the desired results.\n",
    "\n",
    "A tf.Tensor has the following properties:\n",
    " 1) a data type (float32, int32, or string, for example)\n",
    " 2) a shape\n",
    " \n",
    "The rank of a tf.Tensor object is its number of dimensions. Synonyms for rank include order or degree or n-dimension.\n",
    " (0 is scalar, 1 is vector, 2 is 2D, 3 is 3D... etc)\n",
    " \n",
    "tf.rank() to get rank of tensor"
   ]
  },
  {
   "cell_type": "code",
   "execution_count": 1,
   "metadata": {},
   "outputs": [],
   "source": [
    "from __future__ import absolute_import\n",
    "from __future__ import division\n",
    "from __future__ import print_function\n",
    "\n",
    "import numpy as np\n",
    "import tensorflow as tf"
   ]
  },
  {
   "cell_type": "code",
   "execution_count": 4,
   "metadata": {},
   "outputs": [
    {
     "name": "stdout",
     "output_type": "stream",
     "text": [
      "0\n",
      "1\n",
      "2\n"
     ]
    }
   ],
   "source": [
    "sess = tf.Session()\n",
    "\n",
    "#Rank 0: Scalar\n",
    "ignition = tf.Variable(20, tf.int16)\n",
    "r = tf.rank(ignition)\n",
    "print(sess.run(r))\n",
    "\n",
    "#Rank 1: Vector\n",
    "cool_numbers = tf.Variable([3.14159, 2.71828], tf.float32)\n",
    "r = tf.rank(cool_numbers)\n",
    "print(sess.run(r))\n",
    "\n",
    "#Rank 2: 2D\n",
    "mymat = tf.Variable([[7],[11]], tf.int16)\n",
    "r = tf.rank(mymat)\n",
    "print(sess.run(r))"
   ]
  },
  {
   "cell_type": "markdown",
   "metadata": {},
   "source": [
    "Since a tf.Tensor is an n-dimensional array of cells, to access a single cell in a tf.Tensor you need to specify n indices."
   ]
  },
  {
   "cell_type": "code",
   "execution_count": 19,
   "metadata": {},
   "outputs": [
    {
     "name": "stdout",
     "output_type": "stream",
     "text": [
      "<tf.Variable 'Variable_35:0' shape=() dtype=int32_ref>\n",
      "Tensor(\"strided_slice_20:0\", shape=(), dtype=int32)\n",
      "Tensor(\"strided_slice_21:0\", shape=(2,), dtype=int32)\n"
     ]
    }
   ],
   "source": [
    "#Rank 0\n",
    "t = tf.Variable(1, tf.int16)\n",
    "ex = t\n",
    "print(t)\n",
    "\n",
    "#Rank 1\n",
    "t = tf.Variable([2, 3], tf.int16)\n",
    "print(t[0])\n",
    "\n",
    "#Rank > 1\n",
    "t = tf.Variable([[4],[5]], tf.int16)\n",
    "print(t[:,0])\n",
    "\n",
    "# Can't run tf.run(t) since it's not an operation"
   ]
  },
  {
   "cell_type": "markdown",
   "metadata": {},
   "source": [
    "The shape of a tensor is the number of elements in each dimension. \n",
    "\n",
    "There are two ways of accessing the shape of a tf.Tensor. While building the graph, it is often useful to ask what is already known about a tensor's shape. This can be done by reading the shape property of a tf.Tensor object. This method returns a TensorShape object, which is a convenient way of representing partially-specified shapes (since, when building the graph, not all shapes will be fully known).\n",
    "\n",
    "It is also possible to get a tf.Tensor that will represent the fully-defined shape of another tf.Tensor at runtime. This is done by calling the tf.shape operation. This way, you can build a graph that manipulates the shapes of tensors by building other tensors that depend on the dynamic shape of the input tf.Tensor."
   ]
  },
  {
   "cell_type": "code",
   "execution_count": 22,
   "metadata": {},
   "outputs": [
    {
     "name": "stdout",
     "output_type": "stream",
     "text": [
      "<tf.Variable 'Variable_37:0' shape=(2, 1) dtype=int32_ref>\n",
      "(2, 1)\n",
      "2\n"
     ]
    }
   ],
   "source": [
    "print(t)\n",
    "print(t.shape)\n",
    "print(t.shape[0])"
   ]
  },
  {
   "cell_type": "markdown",
   "metadata": {},
   "source": [
    "To change the shape of a tf.Tensor, keeping its elements fixed. This can be done with tf.reshape."
   ]
  },
  {
   "cell_type": "code",
   "execution_count": 24,
   "metadata": {},
   "outputs": [],
   "source": [
    "rank_three_tensor = tf.ones([3, 4, 5])\n",
    "matrix = tf.reshape(rank_three_tensor, [6, 10])  # Reshape existing content into\n",
    "                                                 # a 6x10 matrix\n",
    "matrixB = tf.reshape(matrix, [3, -1])  #  Reshape existing content into a 3x20\n",
    "                                       # matrix. -1 tells reshape to calculate\n",
    "                                       # the size of this dimension.\n",
    "matrixAlt = tf.reshape(matrixB, [4, 3, -1])  # Reshape existing content into a\n",
    "                                             #4x3x5 tensor\n",
    "\n",
    "# Note that the number of elements of the reshaped Tensors has to match the\n",
    "# original number of elements. Therefore, the following example generates an\n",
    "# error because no possible value for the last dimension will match the number\n",
    "# of elements.\n",
    "# yet_another = tf.reshape(matrixAlt, [13, 2, -1])  # ERROR!"
   ]
  },
  {
   "cell_type": "markdown",
   "metadata": {},
   "source": [
    "It is possible to cast tf.Tensors from one datatype to another using tf.cast:"
   ]
  },
  {
   "cell_type": "code",
   "execution_count": 25,
   "metadata": {},
   "outputs": [],
   "source": [
    "# Cast a constant integer tensor into floating point.\n",
    "float_tensor = tf.cast(tf.constant([1, 2, 3]), dtype=tf.float32)"
   ]
  },
  {
   "cell_type": "markdown",
   "metadata": {},
   "source": [
    "The simplest way to evaluate a Tensor is using the Tensor.eval method. For example:"
   ]
  },
  {
   "cell_type": "code",
   "execution_count": 34,
   "metadata": {},
   "outputs": [
    {
     "name": "stdout",
     "output_type": "stream",
     "text": [
      "[1 4 9]\n"
     ]
    }
   ],
   "source": [
    "constant = tf.constant([1, 2, 3])\n",
    "tensor = constant * constant\n",
    "print(tensor.eval(session=sess)) # eval only works if there's an active session\n",
    "#doesn't work on placeholders"
   ]
  },
  {
   "cell_type": "markdown",
   "metadata": {},
   "source": [
    "To print Tensors"
   ]
  },
  {
   "cell_type": "code",
   "execution_count": 45,
   "metadata": {},
   "outputs": [
    {
     "name": "stdout",
     "output_type": "stream",
     "text": [
      "Tensor(\"add_17:0\", shape=(3,), dtype=int32)\n",
      "[2 4 6]\n"
     ]
    }
   ],
   "source": [
    "t = constant + constant\n",
    "\n",
    "print(t)\n",
    "    # This will print the symbolic tensor when the graph is being built.\n",
    "    # This tensor does not have a value in this context.\n",
    "    \n",
    "t = tf.Print(t, [t])  \n",
    "    # Here we are using the value returned by tf.Print        \n",
    "    # Now when result is evaluated the value of `t` will be printed.\n",
    "    \n",
    "print(sess.run(t))"
   ]
  },
  {
   "cell_type": "code",
   "execution_count": 46,
   "metadata": {},
   "outputs": [
    {
     "name": "stdout",
     "output_type": "stream",
     "text": [
      "4\n"
     ]
    }
   ],
   "source": [
    "a = tf.constant(4)\n",
    "a_print = tf.Print(a, [a])\n",
    "print(sess.run(a_print)) #putting in operation to run so can print"
   ]
  },
  {
   "cell_type": "code",
   "execution_count": null,
   "metadata": {},
   "outputs": [],
   "source": []
  }
 ],
 "metadata": {
  "kernelspec": {
   "display_name": "Python 3",
   "language": "python",
   "name": "python3"
  }
 },
 "nbformat": 4,
 "nbformat_minor": 2
}
