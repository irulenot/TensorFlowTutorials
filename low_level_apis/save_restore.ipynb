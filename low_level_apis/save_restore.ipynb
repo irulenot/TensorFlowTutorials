{
 "cells": [
  {
   "cell_type": "code",
   "execution_count": 1,
   "metadata": {},
   "outputs": [],
   "source": [
    "from __future__ import absolute_import\n",
    "from __future__ import division\n",
    "from __future__ import print_function\n",
    "\n",
    "import numpy as np\n",
    "import tensorflow as tf"
   ]
  },
  {
   "cell_type": "markdown",
   "metadata": {},
   "source": [
    "tf.train.Saver class: provides methods to save and restore models. \n",
    "\n",
    "tf.saved_model.simple_save function: easy way to build a saved model suitable for serving. \n",
    "\n",
    "Estimators automatically save and restore variables in the model_dir.\n",
    "\n",
    "The tf.train.Saver constructor adds save and restore ops to the graph for all, or a specified list, of the variables in the graph.\n",
    "\n",
    "TensorFlow saves variables in binary checkpoint files that map variable names to tensor values."
   ]
  },
  {
   "cell_type": "markdown",
   "metadata": {},
   "source": [
    "Create a Saver with tf.train.Saver() to manage all variables in the model. For example, the following snippet demonstrates how to call the tf.train.Saver.save method to save variables to checkpoint files:"
   ]
  },
  {
   "cell_type": "code",
   "execution_count": 2,
   "metadata": {},
   "outputs": [
    {
     "name": "stdout",
     "output_type": "stream",
     "text": [
      "Model saved in path: ./models/model.ckpt\n"
     ]
    }
   ],
   "source": [
    "# Create some variables.\n",
    "v1 = tf.get_variable(\"v1\", shape=[3], initializer = tf.zeros_initializer)\n",
    "v2 = tf.get_variable(\"v2\", shape=[5], initializer = tf.zeros_initializer)\n",
    "\n",
    "inc_v1 = v1.assign(v1+1) #requires function to change value since a tf variable\n",
    "dec_v2 = v2.assign(v2-1)\n",
    "\n",
    "# Add an op to initialize the variables.\n",
    "init_op = tf.global_variables_initializer()\n",
    "\n",
    "# Add ops to save and restore all the variables.\n",
    "saver = tf.train.Saver()\n",
    "\n",
    "# Later, launch the model, initialize the variables, do some work, and save the\n",
    "# variables to disk.\n",
    "with tf.Session() as sess:\n",
    "  sess.run(init_op)\n",
    "  # Do some work with the model.\n",
    "  inc_v1.op.run()     # interesting\n",
    "  dec_v2.op.run()\n",
    "  # Save the variables to disk.\n",
    "  save_path = saver.save(sess, \"./models/model.ckpt\")\n",
    "  print(\"Model saved in path: %s\" % save_path)"
   ]
  },
  {
   "cell_type": "code",
   "execution_count": 3,
   "metadata": {},
   "outputs": [
    {
     "name": "stdout",
     "output_type": "stream",
     "text": [
      "INFO:tensorflow:Restoring parameters from ./models/model.ckpt\n",
      "Model restored.\n",
      "v1 : [1. 1. 1.]\n",
      "v2 : [-1. -1. -1. -1. -1.]\n"
     ]
    }
   ],
   "source": [
    "tf.reset_default_graph()\n",
    "\n",
    "# Create some variables.\n",
    "v1 = tf.get_variable(\"v1\", shape=[3])\n",
    "v2 = tf.get_variable(\"v2\", shape=[5])\n",
    "\n",
    "# Add ops to save and restore all the variables.\n",
    "saver = tf.train.Saver()\n",
    "\n",
    "# Later, launch the model, use the saver to restore variables from disk, and\n",
    "# do some work with the model.\n",
    "with tf.Session() as sess:\n",
    "  # Restore variables from disk.\n",
    "  saver.restore(sess, \"./models/model.ckpt\")\n",
    "  print(\"Model restored.\")\n",
    "  # Check the values of the variables\n",
    "  print(\"v1 : %s\" % v1.eval())\n",
    "  print(\"v2 : %s\" % v2.eval())\n",
    "    \n",
    "    \n",
    "# Above you can see how a tf.train.Saver object saved and restored a graph in its local directory"
   ]
  },
  {
   "cell_type": "markdown",
   "metadata": {},
   "source": [
    "You can easily specify the names and variables to save or load by passing to the tf.train.Saver() constructor either of the following:\n",
    "\n",
    "    A list of variables (which will be stored under their own names).\n",
    "    A Python dictionary in which keys are the names to use and the values are the variables to manage."
   ]
  },
  {
   "cell_type": "code",
   "execution_count": 4,
   "metadata": {},
   "outputs": [
    {
     "name": "stdout",
     "output_type": "stream",
     "text": [
      "INFO:tensorflow:Restoring parameters from ./models/model.ckpt\n",
      "v1 : [0. 0. 0.]\n",
      "v2 : [-1. -1. -1. -1. -1.]\n"
     ]
    }
   ],
   "source": [
    "tf.reset_default_graph()\n",
    "# Create some variables.\n",
    "v1 = tf.get_variable(\"v1\", [3], initializer = tf.zeros_initializer)\n",
    "v2 = tf.get_variable(\"v2\", [5], initializer = tf.zeros_initializer)\n",
    "\n",
    "# Add ops to save and restore only `v2` using the name \"v2\"\n",
    "saver = tf.train.Saver({\"v2\": v2})   # Explicit saving\n",
    "\n",
    "# Use the saver object normally after that.\n",
    "with tf.Session() as sess:\n",
    "  # Initialize v1 since the saver will not.\n",
    "  v1.initializer.run()\n",
    "  saver.restore(sess, \"./models/model.ckpt\")\n",
    "\n",
    "  print(\"v1 : %s\" % v1.eval())\n",
    "  print(\"v2 : %s\" % v2.eval())"
   ]
  },
  {
   "cell_type": "code",
   "execution_count": 5,
   "metadata": {},
   "outputs": [],
   "source": [
    "# # We can quickly inspect variables in a checkpoint with the inspect_checkpoint library.\n",
    "\n",
    "# # import the inspect_checkpoint library\n",
    "# from tensorflow.python.tools import inspect_checkpoint as chkp\n",
    "\n",
    "# # print all tensors in checkpoint file\n",
    "# chkp.print_tensors_in_checkpoint_file(\"./models/model.ckpt\", tensor_name='', all_tensors=True)\n",
    "\n",
    "# # tensor_name:  v1\n",
    "# # [ 1.  1.  1.]\n",
    "# # tensor_name:  v2\n",
    "# # [-1. -1. -1. -1. -1.]\n",
    "\n",
    "# # print only tensor v1 in checkpoint file\n",
    "# chkp.print_tensors_in_checkpoint_file(\"./models/model.ckpt\", tensor_name='v1', all_tensors=False)\n",
    "\n",
    "# # tensor_name:  v1\n",
    "# # [ 1.  1.  1.]\n",
    "\n",
    "# # print only tensor v2 in checkpoint file\n",
    "# chkp.print_tensors_in_checkpoint_file(\"./models/model.ckpt\", tensor_name='v2', all_tensors=False)\n",
    "\n",
    "# # tensor_name:  v2\n",
    "# # [-1. -1. -1. -1. -1.]\n",
    "\n",
    "\n",
    "# # Not working but i'' believe it\n",
    "# # All that is happening is loading in variables from a checkpoint, or specific ones"
   ]
  },
  {
   "cell_type": "markdown",
   "metadata": {},
   "source": [
    "The easiest way to create a SavedModel is to use the tf.saved_model.simple_save function:"
   ]
  },
  {
   "cell_type": "code",
   "execution_count": 7,
   "metadata": {},
   "outputs": [],
   "source": [
    "# simple_save(session,\n",
    "#             export_dir,\n",
    "#             inputs={\"x\": x, \"y\": y},    TEMPLATE\n",
    "#             outputs={\"z\": z})"
   ]
  },
  {
   "cell_type": "markdown",
   "metadata": {},
   "source": [
    "If your use case isn't covered by tf.saved_model.simple_save, use the manual builder APIs to create a SavedModel.\n",
    "\n",
    "The tf.saved_model.builder.SavedModelBuilder class provides functionality to save multiple MetaGraphDefs. A MetaGraph is a dataflow graph, plus its associated variables, assets, and signatures. A MetaGraphDef is the protocol buffer representation of a MetaGraph. A signature is the set of inputs to and outputs from a graph."
   ]
  },
  {
   "cell_type": "code",
   "execution_count": 8,
   "metadata": {},
   "outputs": [],
   "source": [
    "# export_dir = ...\n",
    "# ...\n",
    "# builder = tf.saved_model.builder.SavedModelBuilder(export_dir)\n",
    "# with tf.Session(graph=tf.Graph()) as sess:\n",
    "#   ...\n",
    "#   builder.add_meta_graph_and_variables(sess,\n",
    "#                                        [tag_constants.TRAINING],\n",
    "#                                        signature_def_map=foo_signatures,    TEMPLATE\n",
    "#                                        assets_collection=foo_assets, \n",
    "#                                        strip_default_attrs=True)\n",
    "# ...\n",
    "# # Add a second MetaGraphDef for inference.\n",
    "# with tf.Session(graph=tf.Graph()) as sess:\n",
    "#   ...\n",
    "#   builder.add_meta_graph([tag_constants.SERVING], strip_default_attrs=True)\n",
    "# ...\n",
    "# builder.save()"
   ]
  },
  {
   "cell_type": "markdown",
   "metadata": {},
   "source": [
    "Can load in C++ and Python as well"
   ]
  },
  {
   "cell_type": "markdown",
   "metadata": {},
   "source": [
    "Can use on Estimators too"
   ]
  },
  {
   "cell_type": "markdown",
   "metadata": {},
   "source": [
    "And with CLI (command line interface)"
   ]
  },
  {
   "cell_type": "markdown",
   "metadata": {},
   "source": [
    "https://www.tensorflow.org/programmers_guide/saved_model"
   ]
  },
  {
   "cell_type": "code",
   "execution_count": null,
   "metadata": {},
   "outputs": [],
   "source": []
  }
 ],
 "metadata": {
  "kernelspec": {
   "display_name": "Python 3",
   "language": "python",
   "name": "python3"
  },
  "language_info": {
   "codemirror_mode": {
    "name": "ipython",
    "version": 3
   },
   "file_extension": ".py",
   "mimetype": "text/x-python",
   "name": "python",
   "nbconvert_exporter": "python",
   "pygments_lexer": "ipython3",
   "version": "3.6.5"
  }
 },
 "nbformat": 4,
 "nbformat_minor": 2
}
